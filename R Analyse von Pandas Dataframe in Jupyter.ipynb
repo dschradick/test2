{
  "cells": [
    {
      "cell_type": "markdown",
      "source": [
        "<h1>Table of Contents<span class=\"tocSkip\"></span></h1>\n",
        "<div class=\"toc\"><ul class=\"toc-item\"></ul></div>"
      ],
      "metadata": {
        "toc": true
      }
    },
    {
      "cell_type": "markdown",
      "source": [
        "*Aufpassen*:<br>\n",
        "NaNs in char-Feldern von Pandas-Dataframes erzeugen Spalten im R data.frame\n",
        "=> voher ersetzen"
      ],
      "metadata": {}
    },
    {
      "cell_type": "code",
      "source": [
        "import warnings\n",
        "warnings.simplefilter(action='ignore')"
      ],
      "outputs": [],
      "execution_count": 1,
      "metadata": {
        "ExecuteTime": {
          "end_time": "2019-05-16T22:41:04.980489Z",
          "start_time": "2019-05-16T22:41:04.977517Z"
        }
      }
    },
    {
      "cell_type": "code",
      "source": [
        "%load_ext rpy2.ipython\n",
        "from rpy2.robjects import r, pandas2ri\n",
        "pandas2ri.activate()"
      ],
      "outputs": [],
      "execution_count": 2,
      "metadata": {
        "ExecuteTime": {
          "end_time": "2019-05-16T22:41:06.057842Z",
          "start_time": "2019-05-16T22:41:05.484081Z"
        }
      }
    },
    {
      "cell_type": "code",
      "source": [
        "%%R\n",
        "df <- data.frame(a=1:2,b=1:2)"
      ],
      "outputs": [],
      "execution_count": 3,
      "metadata": {
        "ExecuteTime": {
          "end_time": "2019-05-16T22:41:06.082691Z",
          "start_time": "2019-05-16T22:41:06.060498Z"
        }
      }
    },
    {
      "cell_type": "code",
      "source": [
        "r.df"
      ],
      "outputs": [
        {
          "output_type": "execute_result",
          "execution_count": 4,
          "data": {
            "text/html": [
              "<div>\n",
              "<style scoped>\n",
              "    .dataframe tbody tr th:only-of-type {\n",
              "        vertical-align: middle;\n",
              "    }\n",
              "\n",
              "    .dataframe tbody tr th {\n",
              "        vertical-align: top;\n",
              "    }\n",
              "\n",
              "    .dataframe thead th {\n",
              "        text-align: right;\n",
              "    }\n",
              "</style>\n",
              "<table border=\"1\" class=\"dataframe\">\n",
              "  <thead>\n",
              "    <tr style=\"text-align: right;\">\n",
              "      <th></th>\n",
              "      <th>a</th>\n",
              "      <th>b</th>\n",
              "    </tr>\n",
              "  </thead>\n",
              "  <tbody>\n",
              "    <tr>\n",
              "      <th>0</th>\n",
              "      <td>1</td>\n",
              "      <td>1</td>\n",
              "    </tr>\n",
              "    <tr>\n",
              "      <th>1</th>\n",
              "      <td>2</td>\n",
              "      <td>2</td>\n",
              "    </tr>\n",
              "  </tbody>\n",
              "</table>\n",
              "</div>"
            ],
            "text/plain": [
              "   a  b\n",
              "0  1  1\n",
              "1  2  2"
            ]
          },
          "metadata": {}
        }
      ],
      "execution_count": 4,
      "metadata": {
        "ExecuteTime": {
          "end_time": "2019-05-16T22:41:06.102241Z",
          "start_time": "2019-05-16T22:41:06.084334Z"
        }
      }
    },
    {
      "cell_type": "code",
      "source": [
        "import pandas as pd\n",
        "import numpy as np\n",
        "\n",
        "\n",
        "titanic = pd.read_csv(\"~/Documents/Data/titanic.csv\")\n",
        "titanic['Sex'] = np.where(titanic['Sex']=='male', '0', '1')\n",
        "titanic[\"Cabin\"].fillna('NaN',inplace=True)\n",
        "titanic[\"Embarked\"].fillna('NaN',inplace=True)\n",
        "#titanic.info()"
      ],
      "outputs": [],
      "execution_count": 5,
      "metadata": {
        "ExecuteTime": {
          "end_time": "2019-05-16T22:41:06.114587Z",
          "start_time": "2019-05-16T22:41:06.104389Z"
        }
      }
    },
    {
      "cell_type": "code",
      "source": [
        "%%R -i titanic  -w 4 -h 3 --units in -r 100\n",
        "\n",
        "library(tidyverse)\n",
        "\n",
        "titanic$Sex <- factor(titanic$Sex)\n",
        "\n",
        "ggplot(titanic, aes(Survived,fill=Sex)) + \n",
        "    geom_bar()"
      ],
      "outputs": [
        {
          "output_type": "display_data",
          "data": {
            "image/png": "[encoded data removed]"
          },
          "metadata": {}
        }
      ],
      "execution_count": 6,
      "metadata": {
        "ExecuteTime": {
          "end_time": "2019-05-16T22:41:08.171369Z",
          "start_time": "2019-05-16T22:41:07.026564Z"
        }
      }
    },
    {
      "cell_type": "code",
      "source": [
        "%%R -i titanic  -w 4 -h 3 --units in -r 100\n",
        "\n",
        "library(factoextra)\n",
        "\n",
        "titanic <- titanic %>% na.omit()\n",
        "titanic_num <- titanic %>%\n",
        "    select_if(is.numeric) %>%\n",
        "    select(-1) %>%\n",
        "    na.omit()\n",
        "\n",
        "pca <- prcomp(titanic_num, scale=TRUE, center=TRUE)\n",
        "#fviz_pca_var(pca, col.var = \"contrib\", \n",
        "            #gradient.cols = c(\"#00AFBB\", \"#E7B800\", \"#FC4E07\"),\n",
        "#             repel = TRUE)"
      ],
      "outputs": [
        {
          "output_type": "stream",
          "name": "stderr",
          "text": [
            "R[write to console]: Welcome! Related Books: `Practical Guide To Cluster Analysis in R` at https://goo.gl/13EFCZ\n",
            "\n"
          ]
        }
      ],
      "execution_count": 7,
      "metadata": {
        "ExecuteTime": {
          "end_time": "2019-05-16T22:41:11.683961Z",
          "start_time": "2019-05-16T22:41:11.553263Z"
        }
      }
    },
    {
      "cell_type": "code",
      "source": [
        "%%R -w 8 -h 8 --units in -r 100\n",
        "fviz_pca_biplot(pca, habillage=as.factor(titanic_num$Survived),\n",
        "                label =\"var\", repel = TRUE) + \n",
        "                xlim(-5,5.5) + ylim(-4.5,4.5) + theme_minimal()"
      ],
      "outputs": [],
      "execution_count": null,
      "metadata": {
        "ExecuteTime": {
          "start_time": "2019-05-16T22:40:52.261Z"
        }
      }
    },
    {
      "cell_type": "code",
      "source": [
        "%%R\n",
        "library(rpart)\n",
        "library(rpart.plot)\n",
        "library(broom)\n",
        "\n",
        "titanic_num$Sex <- fct_recode(factor(titanic$Sex), 'female' = '1', 'male' = '0')\n",
        "fit <- rpart(factor(Survived) ~ ., titanic_num)\n",
        "fit$variable.importance "
      ],
      "outputs": [],
      "execution_count": null,
      "metadata": {
        "ExecuteTime": {
          "start_time": "2019-05-16T22:41:14.633Z"
        }
      }
    },
    {
      "cell_type": "code",
      "source": [
        "%%R\n",
        "rpart.plot(fit,extra=102)"
      ],
      "outputs": [],
      "execution_count": null,
      "metadata": {
        "ExecuteTime": {
          "start_time": "2019-05-16T22:38:07.914Z"
        }
      }
    },
    {
      "cell_type": "code",
      "source": [],
      "outputs": [],
      "execution_count": null,
      "metadata": {}
    }
  ],
  "metadata": {
    "kernelspec": {
      "display_name": "Python 3",
      "language": "python",
      "name": "python3"
    },
    "language_info": {
      "codemirror_mode": {
        "name": "ipython",
        "version": 3
      },
      "file_extension": ".py",
      "mimetype": "text/x-python",
      "name": "python",
      "nbconvert_exporter": "python",
      "pygments_lexer": "ipython3",
      "version": "3.7.3"
    },
    "toc": {
      "toc_position": {},
      "skip_h1_title": false,
      "number_sections": true,
      "title_cell": "Table of Contents",
      "toc_window_display": true,
      "base_numbering": 1,
      "toc_section_display": true,
      "title_sidebar": "Contents",
      "toc_cell": true,
      "nav_menu": {},
      "sideBar": true
    },
    "varInspector": {
      "cols": {
        "lenName": 16,
        "lenType": 16,
        "lenVar": 40
      },
      "kernels_config": {
        "python": {
          "delete_cmd_postfix": "",
          "delete_cmd_prefix": "del ",
          "library": "var_list.py",
          "varRefreshCmd": "print(var_dic_list())"
        },
        "r": {
          "delete_cmd_postfix": ") ",
          "delete_cmd_prefix": "rm(",
          "library": "var_list.r",
          "varRefreshCmd": "cat(var_dic_list()) "
        }
      },
      "types_to_exclude": [
        "module",
        "function",
        "builtin_function_or_method",
        "instance",
        "_Feature"
      ],
      "window_display": false
    },
    "nteract": {
      "version": "0.21.0"
    }
  },
  "nbformat": 4,
  "nbformat_minor": 2
}