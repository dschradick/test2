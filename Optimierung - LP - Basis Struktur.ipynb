{
 "cells": [
  {
   "cell_type": "markdown",
   "metadata": {},
   "source": [
    "**Lineares Programm**\n",
    "\n",
    "**Gegeben** <bR>\n",
    "1 Matrix $A \\in \\mathbb{R}^{m,n}$ <br> \n",
    "2 Vektoren: ${\\displaystyle b\\in \\mathbb {R} ^{m,1}}$\n",
    "<p>\n",
    "    \n",
    "Eine **zulässige Lösung** ist:<br> \n",
    "Vektor $x\\in \\mathbb {R} ^{n}$ mit nichtnegativen Einträgen, der folgende linearen Bedingungen erfüllt:\n",
    "\n",
    "${\\displaystyle {\\begin{matrix}a_{11}x_{1}&+\\ldots &+a_{1n}x_{n}&\\leq b_{1}\\\\a_{21}x_{1}&+\\ldots &+a_{2n}x_{n}&\\leq b_{2}\\\\\\vdots &\\vdots &\\vdots &\\vdots \\\\a_{m1}x_{1}&+\\ldots &+a_{mn}x_{n}&\\leq b_{m}\\end{matrix}}}$ <p>\n",
    "    \n",
    "**Ziel**: <br>\n",
    "Finde unter allen zulässigen Vektoren $x$ einen Vektor, <br>der das folgende Standardskalarprodukt maximiert:\n",
    "\n",
    "\n",
    "$${\\displaystyle cx=c_{1}x_{1}+\\ldots +c_{n}x_{n}}$$\n",
    "\n",
    "Optimierungsproblem in Standardform: <br>\n",
    "\n",
    "$${\\displaystyle \\max\\{cx\\;|\\;Ax\\leq b,x\\geq 0\\}}$$\n",
    "\n",
    "Bedingungen $Ax\\leq b$ und $x \\geq 0$ sind komponentenweise zu verstehen    "
   ]
  },
  {
   "cell_type": "code",
   "execution_count": 1,
   "metadata": {},
   "outputs": [],
   "source": [
    "### Ziel-Funktion: \n",
    "#\n",
    "#  Hauptziel: entweder maximieren oder minimieren der Zielfunktion\n",
    "#  Hier: Z (zu minimieren)\n",
    "#\n",
    "#\n",
    "### Entscheidungsvariablen \n",
    "#\n",
    "# Variablen um die Ausgabe der Zielfunktionen zu bestimmen\n",
    "#  => sind Unbekannten\n",
    "# Hier: Werte für Enscheidungsvariablen x und  y sind zu bestimmen um Z zu minimieren\n",
    "#\n",
    "#\n",
    "### Randbedingungen\n",
    "# \n",
    "# Bedinungen and die Enscheidungsvariablen\n",
    "# Hier: die durch die Ungleichungen gegebenen Bedingungen\n",
    "# \n",
    "#\n",
    "### Nicht Negativitäts-Bedingungen \n",
    "#\n",
    "# In lineare Optimierung sind die Werte \n",
    "# der Enscheidungsvariablen IMMER ≥ 0!!\n",
    "\n",
    "# !!!!!!!!!!!!!!\n",
    "# Um ein Problem der Linearen Programmierung zu sein, \n",
    "# MÜSSEN\n",
    "# 1. Ziel Funktion &\n",
    "# 2. Randbedingungen & \n",
    "# 3. nicht-negative Bedingungen\n",
    "# ...LINEAR sein.\n",
    "# !!!!!!!!!!!!!!"
   ]
  },
  {
   "cell_type": "code",
   "execution_count": 2,
   "metadata": {},
   "outputs": [],
   "source": [
    "##### Minimiere:  \n",
    "#                   Z = 3x + 5y\n",
    "## Randbedingungen \n",
    "#  2x + 3y >= 12\n",
    "#  -x + y <= 3\n",
    "#  x >= 4\n",
    "#  y <= 3\n",
    "#\n",
    "## Nichtnegativitätsbedingung\n",
    "#  x, y >= 0"
   ]
  },
  {
   "cell_type": "code",
   "execution_count": 3,
   "metadata": {},
   "outputs": [
    {
     "name": "stdout",
     "output_type": "stream",
     "text": [
      "My_Problem:\n",
      "MINIMIZE\n",
      "3*x + 5*y + 0\n",
      "SUBJECT TO\n",
      "_C1: 2 x + 3 y >= 12\n",
      "\n",
      "_C2: - x + y <= 3\n",
      "\n",
      "_C3: x >= 4\n",
      "\n",
      "_C4: y <= 3\n",
      "\n",
      "VARIABLES\n",
      "x Continuous\n",
      "y Continuous\n",
      "\n"
     ]
    },
    {
     "name": "stderr",
     "output_type": "stream",
     "text": [
      "/opt/conda/lib/python3.7/site-packages/pulp/pulp.py:1137: UserWarning: Spaces are not permitted in the name. Converted to '_'\n",
      "  warnings.warn(\"Spaces are not permitted in the name. Converted to '_'\")\n"
     ]
    }
   ],
   "source": [
    "import pulp as p \n",
    "  \n",
    "### Erzeuge LP-Minimierungsproblem \n",
    "# Name + Ziel \n",
    "Lp_prob = p.LpProblem('My Problem', p.LpMinimize)  \n",
    "  \n",
    "\n",
    "### Problem-Variablen + Nichtnegativitätsbedingung\n",
    "# 1. Definere LP-Variablen - die Variablen in Zielfunktion\n",
    "# 2. Setze unter Schranke für Variablen - 0\n",
    "# 3. Setze obere Schranke => None als default - kann aber definiert werden\n",
    "x = p.LpVariable(\"x\", lowBound = 0)   #  x >= 0 \n",
    "y = p.LpVariable(\"y\", lowBound = 0)   #  y >= 0 \n",
    "  \n",
    "### Zielfunktion\n",
    "# => als Funktion der Variablen\n",
    "Lp_prob += 3 * x + 5 * y    \n",
    "  \n",
    "# Randbedingungen definieren \n",
    "Lp_prob += 2 * x + 3 * y >= 12\n",
    "Lp_prob += -x + y <= 3\n",
    "Lp_prob += x >= 4\n",
    "Lp_prob += y <= 3\n",
    "\n",
    "print(Lp_prob) "
   ]
  },
  {
   "cell_type": "code",
   "execution_count": 4,
   "metadata": {},
   "outputs": [
    {
     "name": "stdout",
     "output_type": "stream",
     "text": [
      "Optimal\n"
     ]
    }
   ],
   "source": [
    "status = Lp_prob.solve()    # Solver \n",
    "print(p.LpStatus[status])   # Lösungs-Status"
   ]
  },
  {
   "cell_type": "code",
   "execution_count": 5,
   "metadata": {},
   "outputs": [
    {
     "name": "stdout",
     "output_type": "stream",
     "text": [
      "6.0 0.0 18.0\n"
     ]
    }
   ],
   "source": [
    "# Lösung des Optimierungsproblem\n",
    "print(p.value(x), p.value(y), p.value(Lp_prob.objective))"
   ]
  }
 ],
 "metadata": {
  "kernelspec": {
   "display_name": "Python 3",
   "language": "python",
   "name": "python3"
  },
  "language_info": {
   "codemirror_mode": {
    "name": "ipython",
    "version": 3
   },
   "file_extension": ".py",
   "mimetype": "text/x-python",
   "name": "python",
   "nbconvert_exporter": "python",
   "pygments_lexer": "ipython3",
   "version": "3.7.3"
  },
  "toc": {
   "base_numbering": 1,
   "nav_menu": {},
   "number_sections": true,
   "sideBar": true,
   "skip_h1_title": false,
   "title_cell": "Table of Contents",
   "title_sidebar": "Contents",
   "toc_cell": false,
   "toc_position": {},
   "toc_section_display": true,
   "toc_window_display": false
  },
  "varInspector": {
   "cols": {
    "lenName": 16,
    "lenType": 16,
    "lenVar": 40
   },
   "kernels_config": {
    "python": {
     "delete_cmd_postfix": "",
     "delete_cmd_prefix": "del ",
     "library": "var_list.py",
     "varRefreshCmd": "print(var_dic_list())"
    },
    "r": {
     "delete_cmd_postfix": ") ",
     "delete_cmd_prefix": "rm(",
     "library": "var_list.r",
     "varRefreshCmd": "cat(var_dic_list()) "
    }
   },
   "types_to_exclude": [
    "module",
    "function",
    "builtin_function_or_method",
    "instance",
    "_Feature"
   ],
   "window_display": false
  }
 },
 "nbformat": 4,
 "nbformat_minor": 2
}
