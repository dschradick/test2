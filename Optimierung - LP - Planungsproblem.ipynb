{
 "cells": [
  {
   "cell_type": "code",
   "execution_count": 1,
   "metadata": {},
   "outputs": [],
   "source": [
    "### Unternehmen stellt \n",
    "# - zwei verschiedene Produkte her\n",
    "# - für deren Fertigung drei Maschinen A, B, C zur Verfügung stehen\n",
    "\n",
    "###  Maschinen \n",
    "# Maximale monatliche Laufzeit (Kapazität): \n",
    "#      A:  170 Stunden \n",
    "#      B:  150 Stunden \n",
    "#      C:   80 Stunden \n",
    "\n",
    "### ME => Deckungsbeitrag\n",
    "# Eine Mengeneinheit (ME) von liefert eine Deckungsbeitrag von..\n",
    "#   1 ME von Produkt 1 =>  Deckungsbeitrag 300 Euro\n",
    "#   1 ME von Produkt 2 =>  Deckungsbeitrag 500 Euro.\n",
    "\n",
    "### Produktions-Dauer\n",
    "# 1 ME von Produkt 1 =>  1 Stunde  durch Maschine A \n",
    "#                    =>  1 Stunde  durch Maschine B\n",
    "# 1 ME von Produkt 2 =>  2 Stunden durch Maschine A\n",
    "#                    =>  1 Stunde  durch Maschine B \n",
    "#                    =>  3 Stunden Maschine C\n",
    "\n",
    "### Ziel \n",
    "# Produktionsmengen bestimmen, welche \n",
    "# 1. Deckungsbeitrag maximiert\n",
    "# 2. ohne die Maschinenkapazitäten zu überschreiten\n",
    "#\n",
    "# (Fixkosten werden ignoriert)\n"
   ]
  },
  {
   "cell_type": "code",
   "execution_count": 2,
   "metadata": {},
   "outputs": [],
   "source": [
    "#### Ziel: maximiere deckungsbeitrag\n",
    "\n",
    "## Maximiere\n",
    "#\n",
    "#      Deckungbeitrag = 300 * p1 + 500 * p2\n",
    "\n",
    "## Randbedinungen\n",
    "#   p1 + 2 * p2 <= 170   # Maschine A\n",
    "#   p1 + p2     <= 150   # Maschine B\n",
    "#   3 * p2      <= 80    # Maschine C\n",
    "\n",
    "## Nichtnegativitätsbedingung\n",
    "# p1, p2 >= 0 "
   ]
  },
  {
   "cell_type": "code",
   "execution_count": 3,
   "metadata": {},
   "outputs": [
    {
     "name": "stdout",
     "output_type": "stream",
     "text": [
      "Deckungsbeitrag:\n",
      "MAXIMIZE\n",
      "300*p1 + 500*p2 + 0\n",
      "SUBJECT TO\n",
      "_C1: p1 + 2 p2 <= 170\n",
      "\n",
      "_C2: p1 + p2 <= 150\n",
      "\n",
      "_C3: 3 p2 <= 80\n",
      "\n",
      "VARIABLES\n",
      "p1 Continuous\n",
      "p2 Continuous\n",
      "\n"
     ]
    }
   ],
   "source": [
    "import pulp as p \n",
    "  \n",
    "### Erzeuge LP-Minimierungsproblem \n",
    "# Name + Ziel \n",
    "Lp_prob = p.LpProblem('Deckungsbeitrag', p.LpMaximize) \n",
    "  \n",
    "\n",
    "### Problem-Variablen + Nichtnegativitätsbedingung\n",
    "# 1. Definere LP-Variablen - die Variablen in Zielfunktion\n",
    "# 2. Setze unter Schranke für Variablen - 0\n",
    "# 3. Setze obere Schranke => None als default - kann aber definiert werden\n",
    "p1 = p.LpVariable(\"p1\", lowBound = 0)   #  p1 >= 0 \n",
    "p2 = p.LpVariable(\"p2\", lowBound = 0)   #  p2 >= 0 \n",
    "  \n",
    "### Zielfunktion\n",
    "# => als Funktion der Variablen\n",
    "Lp_prob += 300 * p1 + 500 * p2\n",
    "  \n",
    "# Randbedingungen definieren \n",
    "Lp_prob += p1 + 2 * p2 <= 170\n",
    "Lp_prob += p1 + p2     <= 150\n",
    "Lp_prob += 3 * p2      <= 80\n",
    "\n",
    "print(Lp_prob) "
   ]
  },
  {
   "cell_type": "code",
   "execution_count": 4,
   "metadata": {},
   "outputs": [
    {
     "name": "stdout",
     "output_type": "stream",
     "text": [
      "Optimal\n"
     ]
    }
   ],
   "source": [
    "status = Lp_prob.solve()    # Solver \n",
    "print(p.LpStatus[status])   # Lösungs-Status"
   ]
  },
  {
   "cell_type": "code",
   "execution_count": 5,
   "metadata": {},
   "outputs": [
    {
     "name": "stdout",
     "output_type": "stream",
     "text": [
      "130.0 20.0 49000.0\n"
     ]
    }
   ],
   "source": [
    "# Lösung des Optimierungsproblem\n",
    "print(p.value(p1), \n",
    "      p.value(p2),\n",
    "      p.value(Lp_prob.objective))"
   ]
  },
  {
   "cell_type": "code",
   "execution_count": 6,
   "metadata": {},
   "outputs": [
    {
     "data": {
      "image/png": "[encoded data removed]",
      "text/plain": [
       "<IPython.core.display.Image object>"
      ]
     },
     "metadata": {
      "image/png": {
       "unconfined": true,
       "width": 300
      }
     },
     "output_type": "display_data"
    }
   ],
   "source": [
    "from IPython.core.display import Image, display\n",
    "display(Image('https://upload.wikimedia.org/wikipedia/commons/4/46/Linear_programming_polytope.png', \n",
    "              width=300, unconfined=True))"
   ]
  },
  {
   "cell_type": "code",
   "execution_count": 7,
   "metadata": {},
   "outputs": [],
   "source": [
    "### Zulässiger Bereich: (blaues Poyleder)\n",
    "# durch Randbedingungen definiere zulässigen Punkte\n",
    "\n",
    "# Iso-Gewinnfunktionen: (rot-gestrichelte Linien)\n",
    "# Alle Punkte auf Linie haben denselben Zielfunktionswert\n",
    "\n",
    "\n",
    "# Ziel: \n",
    "# Rot gestrichelte Linie so weit nach rechts oben zu schieben\n",
    "# dass sie gerade noch das Polyeder berührt\n",
    "# => alle Punkte sind dan optimal\n",
    "#    hier Punkt: (130,20) ist die eindeutig optimale Ecke\n",
    "#                mitoptimalen Zielfunktionswert 49.000 Euro\n",
    "\n",
    "# Normalerweise: weder eindeutig noch ganzahlig\n",
    "# z.b wenn gleichen Deckungsbeitrag - \n",
    "#     => dann Iso-Gewinnfunk. parallel zu ungleichung p1 + p2 < 150\n",
    "#        dann jeder Punkt auf Strecke (130,20) und (150,0) optimal\n",
    "#        => unendliche viele Optimallösungen"
   ]
  },
  {
   "cell_type": "code",
   "execution_count": null,
   "metadata": {},
   "outputs": [],
   "source": []
  }
 ],
 "metadata": {
  "kernelspec": {
   "display_name": "Python 3",
   "language": "python",
   "name": "python3"
  },
  "language_info": {
   "codemirror_mode": {
    "name": "ipython",
    "version": 3
   },
   "file_extension": ".py",
   "mimetype": "text/x-python",
   "name": "python",
   "nbconvert_exporter": "python",
   "pygments_lexer": "ipython3",
   "version": "3.7.3"
  },
  "toc": {
   "base_numbering": 1,
   "nav_menu": {},
   "number_sections": true,
   "sideBar": true,
   "skip_h1_title": false,
   "title_cell": "Table of Contents",
   "title_sidebar": "Contents",
   "toc_cell": false,
   "toc_position": {},
   "toc_section_display": true,
   "toc_window_display": false
  },
  "varInspector": {
   "cols": {
    "lenName": 16,
    "lenType": 16,
    "lenVar": 40
   },
   "kernels_config": {
    "python": {
     "delete_cmd_postfix": "",
     "delete_cmd_prefix": "del ",
     "library": "var_list.py",
     "varRefreshCmd": "print(var_dic_list())"
    },
    "r": {
     "delete_cmd_postfix": ") ",
     "delete_cmd_prefix": "rm(",
     "library": "var_list.r",
     "varRefreshCmd": "cat(var_dic_list()) "
    }
   },
   "types_to_exclude": [
    "module",
    "function",
    "builtin_function_or_method",
    "instance",
    "_Feature"
   ],
   "window_display": false
  }
 },
 "nbformat": 4,
 "nbformat_minor": 2
}
