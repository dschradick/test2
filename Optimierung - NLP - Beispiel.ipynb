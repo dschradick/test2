{
 "cells": [
  {
   "cell_type": "code",
   "execution_count": null,
   "metadata": {},
   "outputs": [],
   "source": [
    "## Google OR-Tools: https://developers.google.com/optimization/introduction/overview\n",
    "## TODO: linear demand + constraint opmization + scipy\n",
    "# business case + constraint optimization\n",
    "# contraint optimization examples business\n",
    "# demand modeling\n",
    "# scipi optimize business example\n",
    "# operations research optimization demand example"
   ]
  },
  {
   "cell_type": "code",
   "execution_count": 2,
   "metadata": {},
   "outputs": [],
   "source": [
    "import numpy as np\n",
    "from scipy.optimize import minimize"
   ]
  },
  {
   "cell_type": "markdown",
   "metadata": {},
   "source": [
    "**Ziel:**  \n",
    "Maximere das Volumen einer Box <p>\n",
    "**Randbedingung:** <br>\n",
    "Oberfläche der Box soll maximal 10 sein"
   ]
  },
  {
   "cell_type": "code",
   "execution_count": 5,
   "metadata": {},
   "outputs": [],
   "source": [
    "### Problem-Kontext definieren\n",
    "# Volumen der Box\n",
    "def calc_volume(x):\n",
    "    length = x[0]\n",
    "    width = x[1]\n",
    "    height = x[2]\n",
    "    volume = length * width * height\n",
    "    return volume\n",
    "\n",
    "# Größe der Oberfläche\n",
    "def calc_surface(x):\n",
    "    length = x[0]\n",
    "    width = x[1]\n",
    "    height = x[2]\n",
    "    surface_aera = 2 * length * width + 2*length*height + 2*height*width\n",
    "    return surface_aera\n"
   ]
  },
  {
   "cell_type": "code",
   "execution_count": 6,
   "metadata": {},
   "outputs": [],
   "source": [
    "### Objective & Contraint definieren\n",
    "def objective(x):\n",
    "    return -calc_volume(x)\n",
    "\n",
    "def contraint(x):\n",
    "    return 10 - calc_surface(x)\n",
    "\n",
    "### Constraints \n",
    "# als dictonary mit Typ des Constraints\n",
    "cons = ({'type': 'ineq',       # Typ der Bedingung\n",
    "         'fun' : contraint})    # Bedingung"
   ]
  },
  {
   "cell_type": "code",
   "execution_count": 7,
   "metadata": {},
   "outputs": [],
   "source": [
    "### Initiale schätzung\n",
    "length_guess = 1\n",
    "width_guess = 1\n",
    "height_guess = 1\n",
    "inital_guess = np.array([length_guess,\n",
    "                         width_guess,\n",
    "                         height_guess])"
   ]
  },
  {
   "cell_type": "code",
   "execution_count": 8,
   "metadata": {},
   "outputs": [
    {
     "name": "stdout",
     "output_type": "stream",
     "text": [
      "Optimization terminated successfully.    (Exit mode 0)\n",
      "            Current function value: -2.151657414467269\n",
      "            Iterations: 4\n",
      "            Function evaluations: 21\n",
      "            Gradient evaluations: 4\n"
     ]
    }
   ],
   "source": [
    "### Minimizer aufrufen\n",
    "sol = minimize(objective, \n",
    "               x0=inital_guess,          # erste Schätzung\n",
    "               method='SLSQP',           # Solver = SLSQP => erlaubt constraint non-linear optimization\n",
    "               constraints=cons,         # Bedingungen\n",
    "               options={'disp':True})   "
   ]
  },
  {
   "cell_type": "code",
   "execution_count": 10,
   "metadata": {},
   "outputs": [
    {
     "name": "stdout",
     "output_type": "stream",
     "text": [
      "Length: 1.2909944727867015\n",
      "Width:  1.290994455352175\n",
      "Height: 1.2909944180130968\n",
      "Surface Area: 9.999999999713689\n"
     ]
    }
   ],
   "source": [
    "### Resultat: Optimale Werte     \n",
    "x_opt = sol.x\n",
    "volume_opt = -sol.fun\n",
    "\n",
    "surface_aera_opt = calc_surface(x_opt)\n",
    "\n",
    "print(\"Length: {}\".format(x_opt[0]))\n",
    "print(\"Width:  {}\".format(x_opt[1]))\n",
    "print(\"Height: {}\".format(x_opt[2]))\n",
    "print(\"Surface Area: {}\".format(surface_aera_opt))\n"
   ]
  },
  {
   "cell_type": "code",
   "execution_count": null,
   "metadata": {},
   "outputs": [],
   "source": []
  }
 ],
 "metadata": {
  "kernelspec": {
   "display_name": "Python 3",
   "language": "python",
   "name": "python3"
  },
  "language_info": {
   "codemirror_mode": {
    "name": "ipython",
    "version": 3
   },
   "file_extension": ".py",
   "mimetype": "text/x-python",
   "name": "python",
   "nbconvert_exporter": "python",
   "pygments_lexer": "ipython3",
   "version": "3.7.3"
  },
  "toc": {
   "base_numbering": 1,
   "nav_menu": {},
   "number_sections": true,
   "sideBar": true,
   "skip_h1_title": false,
   "title_cell": "Table of Contents",
   "title_sidebar": "Contents",
   "toc_cell": false,
   "toc_position": {},
   "toc_section_display": true,
   "toc_window_display": false
  },
  "varInspector": {
   "cols": {
    "lenName": 16,
    "lenType": 16,
    "lenVar": 40
   },
   "kernels_config": {
    "python": {
     "delete_cmd_postfix": "",
     "delete_cmd_prefix": "del ",
     "library": "var_list.py",
     "varRefreshCmd": "print(var_dic_list())"
    },
    "r": {
     "delete_cmd_postfix": ") ",
     "delete_cmd_prefix": "rm(",
     "library": "var_list.r",
     "varRefreshCmd": "cat(var_dic_list()) "
    }
   },
   "types_to_exclude": [
    "module",
    "function",
    "builtin_function_or_method",
    "instance",
    "_Feature"
   ],
   "window_display": false
  }
 },
 "nbformat": 4,
 "nbformat_minor": 2
}
