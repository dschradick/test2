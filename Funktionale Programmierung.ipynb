{
 "cells": [
  {
   "cell_type": "markdown",
   "metadata": {
    "toc": true
   },
   "source": [
    "<h1>Table of Contents<span class=\"tocSkip\"></span></h1>\n",
    "<div class=\"toc\"><ul class=\"toc-item\"><li><span><a href=\"#Basics\" data-toc-modified-id=\"Basics-1\"><span class=\"toc-item-num\">1&nbsp;&nbsp;</span>Basics</a></span><ul class=\"toc-item\"><li><span><a href=\"#Funktionen-als-Objekte\" data-toc-modified-id=\"Funktionen-als-Objekte-1.1\"><span class=\"toc-item-num\">1.1&nbsp;&nbsp;</span>Funktionen als Objekte</a></span></li><li><span><a href=\"#Higher-Order-functions\" data-toc-modified-id=\"Higher-Order-functions-1.2\"><span class=\"toc-item-num\">1.2&nbsp;&nbsp;</span>Higher Order functions</a></span><ul class=\"toc-item\"><li><span><a href=\"#Map\" data-toc-modified-id=\"Map-1.2.1\"><span class=\"toc-item-num\">1.2.1&nbsp;&nbsp;</span>Map</a></span></li><li><span><a href=\"#Ersatz-für-map:-List-Comprehension\" data-toc-modified-id=\"Ersatz-für-map:-List-Comprehension-1.2.2\"><span class=\"toc-item-num\">1.2.2&nbsp;&nbsp;</span>Ersatz für map: List Comprehension</a></span></li><li><span><a href=\"#Filter\" data-toc-modified-id=\"Filter-1.2.3\"><span class=\"toc-item-num\">1.2.3&nbsp;&nbsp;</span>Filter</a></span></li><li><span><a href=\"#Ersatz-für-filter:-List-Comprehension\" data-toc-modified-id=\"Ersatz-für-filter:-List-Comprehension-1.2.4\"><span class=\"toc-item-num\">1.2.4&nbsp;&nbsp;</span>Ersatz für filter: List Comprehension</a></span></li><li><span><a href=\"#Reduce\" data-toc-modified-id=\"Reduce-1.2.5\"><span class=\"toc-item-num\">1.2.5&nbsp;&nbsp;</span>Reduce</a></span></li><li><span><a href=\"#Ersatz-für-reduce:-build-in-reducing-functions\" data-toc-modified-id=\"Ersatz-für-reduce:-build-in-reducing-functions-1.2.6\"><span class=\"toc-item-num\">1.2.6&nbsp;&nbsp;</span>Ersatz für reduce: build-in reducing functions</a></span></li><li><span><a href=\"#Arithmetische-Operatorena-als-Funktionen\" data-toc-modified-id=\"Arithmetische-Operatorena-als-Funktionen-1.2.7\"><span class=\"toc-item-num\">1.2.7&nbsp;&nbsp;</span>Arithmetische Operatorena als Funktionen</a></span></li></ul></li><li><span><a href=\"#Mehrere-Argumente---Parital:-Freezing-arguments\" data-toc-modified-id=\"Mehrere-Argumente---Parital:-Freezing-arguments-1.3\"><span class=\"toc-item-num\">1.3&nbsp;&nbsp;</span>Mehrere Argumente - Parital: Freezing arguments</a></span></li></ul></li><li><span><a href=\"#Pandas:-Basics-funktionale-Programmierung\" data-toc-modified-id=\"Pandas:-Basics-funktionale-Programmierung-2\"><span class=\"toc-item-num\">2&nbsp;&nbsp;</span>Pandas: Basics funktionale Programmierung</a></span><ul class=\"toc-item\"><li><span><a href=\"#Apply-reihen-/spaltenweise\" data-toc-modified-id=\"Apply-reihen-/spaltenweise-2.1\"><span class=\"toc-item-num\">2.1&nbsp;&nbsp;</span>Apply reihen-/spaltenweise</a></span><ul class=\"toc-item\"><li><span><a href=\"#Custom-functions\" data-toc-modified-id=\"Custom-functions-2.1.1\"><span class=\"toc-item-num\">2.1.1&nbsp;&nbsp;</span>Custom functions</a></span></li><li><span><a href=\"#Series-zurück-geben-anstatt-Skalar\" data-toc-modified-id=\"Series-zurück-geben-anstatt-Skalar-2.1.2\"><span class=\"toc-item-num\">2.1.2&nbsp;&nbsp;</span>Series zurück geben anstatt Skalar</a></span></li></ul></li><li><span><a href=\"#Elementwise:-Dataframe\" data-toc-modified-id=\"Elementwise:-Dataframe-2.2\"><span class=\"toc-item-num\">2.2&nbsp;&nbsp;</span>Elementwise: Dataframe</a></span></li><li><span><a href=\"#Elementwise:-Series\" data-toc-modified-id=\"Elementwise:-Series-2.3\"><span class=\"toc-item-num\">2.3&nbsp;&nbsp;</span>Elementwise: Series</a></span></li></ul></li><li><span><a href=\"#Pandas:-Group-by\" data-toc-modified-id=\"Pandas:-Group-by-3\"><span class=\"toc-item-num\">3&nbsp;&nbsp;</span>Pandas: Group-by</a></span><ul class=\"toc-item\"><li><span><a href=\"#Group-by\" data-toc-modified-id=\"Group-by-3.1\"><span class=\"toc-item-num\">3.1&nbsp;&nbsp;</span>Group-by</a></span></li><li><span><a href=\"#Intropect-groups\" data-toc-modified-id=\"Intropect-groups-3.2\"><span class=\"toc-item-num\">3.2&nbsp;&nbsp;</span>Intropect groups</a></span></li><li><span><a href=\"#Auswählen-und-manipulieren-von-Gruppen\" data-toc-modified-id=\"Auswählen-und-manipulieren-von-Gruppen-3.3\"><span class=\"toc-item-num\">3.3&nbsp;&nbsp;</span>Auswählen und manipulieren von Gruppen</a></span><ul class=\"toc-item\"><li><span><a href=\"#(sort-)-split-apply-combine\" data-toc-modified-id=\"(sort-)-split-apply-combine-3.3.1\"><span class=\"toc-item-num\">3.3.1&nbsp;&nbsp;</span>(sort-)-split-apply-combine</a></span></li></ul></li></ul></li></ul></div>"
   ]
  },
  {
   "cell_type": "markdown",
   "metadata": {},
   "source": [
    "# Basics"
   ]
  },
  {
   "cell_type": "markdown",
   "metadata": {},
   "source": [
    "## Funktionen als Objekte\n"
   ]
  },
  {
   "cell_type": "code",
   "execution_count": 130,
   "metadata": {},
   "outputs": [
    {
     "name": "stdout",
     "output_type": "stream",
     "text": [
      "returns n!\n",
      "<class 'function'>\n"
     ]
    }
   ],
   "source": [
    "def fact(n):\n",
    "    '''returns n!'''\n",
    "    return 1 if n < 2 else n * factorial(n-1)\n",
    "factorial(5)\n",
    "\n",
    "print(fact.__doc__)\n",
    "print(type(fact))\n"
   ]
  },
  {
   "cell_type": "markdown",
   "metadata": {},
   "source": [
    "## Higher Order functions"
   ]
  },
  {
   "cell_type": "markdown",
   "metadata": {},
   "source": [
    "### Map"
   ]
  },
  {
   "cell_type": "code",
   "execution_count": 131,
   "metadata": {},
   "outputs": [
    {
     "data": {
      "text/plain": [
       "[1, 1, 2, 6, 24, 120]"
      ]
     },
     "execution_count": 131,
     "metadata": {},
     "output_type": "execute_result"
    }
   ],
   "source": [
    "list(map(fact, range(6))) "
   ]
  },
  {
   "cell_type": "markdown",
   "metadata": {},
   "source": [
    "### Ersatz für map: List Comprehension "
   ]
  },
  {
   "cell_type": "code",
   "execution_count": 26,
   "metadata": {},
   "outputs": [
    {
     "data": {
      "text/plain": [
       "[1, 1, 2, 6, 24, 120]"
      ]
     },
     "execution_count": 26,
     "metadata": {},
     "output_type": "execute_result"
    }
   ],
   "source": [
    "[fact(n) for n in range(6)]"
   ]
  },
  {
   "cell_type": "markdown",
   "metadata": {},
   "source": [
    "### Filter"
   ]
  },
  {
   "cell_type": "code",
   "execution_count": 27,
   "metadata": {},
   "outputs": [
    {
     "data": {
      "text/plain": [
       "[1, 6, 120]"
      ]
     },
     "execution_count": 27,
     "metadata": {},
     "output_type": "execute_result"
    }
   ],
   "source": [
    "list(map(fact, filter(lambda n: n % 2, range(6))))"
   ]
  },
  {
   "cell_type": "markdown",
   "metadata": {},
   "source": [
    "### Ersatz für filter: List Comprehension"
   ]
  },
  {
   "cell_type": "code",
   "execution_count": 21,
   "metadata": {},
   "outputs": [
    {
     "data": {
      "text/plain": [
       "[1, 6, 120]"
      ]
     },
     "execution_count": 21,
     "metadata": {},
     "output_type": "execute_result"
    }
   ],
   "source": [
    "[fact(n) for n in range(6) if n % 2]"
   ]
  },
  {
   "cell_type": "markdown",
   "metadata": {},
   "source": [
    "### Reduce"
   ]
  },
  {
   "cell_type": "code",
   "execution_count": 24,
   "metadata": {},
   "outputs": [
    {
     "data": {
      "text/plain": [
       "4950"
      ]
     },
     "execution_count": 24,
     "metadata": {},
     "output_type": "execute_result"
    }
   ],
   "source": [
    "from functools import reduce\n",
    "from operator import add \n",
    "\n",
    "reduce(add, range(100))"
   ]
  },
  {
   "cell_type": "markdown",
   "metadata": {},
   "source": [
    "### Ersatz für reduce: build-in reducing functions"
   ]
  },
  {
   "cell_type": "code",
   "execution_count": 132,
   "metadata": {},
   "outputs": [
    {
     "data": {
      "text/plain": [
       "4950"
      ]
     },
     "execution_count": 132,
     "metadata": {},
     "output_type": "execute_result"
    }
   ],
   "source": [
    "sum(range(100))\n",
    "# any, all"
   ]
  },
  {
   "cell_type": "markdown",
   "metadata": {},
   "source": [
    "### Arithmetische Operatoren als Funktionen"
   ]
  },
  {
   "cell_type": "code",
   "execution_count": 133,
   "metadata": {},
   "outputs": [],
   "source": [
    "# eg. z.B. für Multiplikation von Zahlen für Fakultät ohne Rekursion\n",
    "from functools import reduce\n",
    "from operator import mul \n",
    "\n",
    "# mit anonymer Funktion\n",
    "def fact(n):\n",
    "    return reduce(lambda a, b: a*b, range(1, n+1))\n",
    "\n",
    "# mit operator\n",
    "def fact(n):\n",
    "    return reduce(mul, range(1, n+1))\n"
   ]
  },
  {
   "cell_type": "markdown",
   "metadata": {},
   "source": [
    "## Mehrere Argumente - Parital: Freezing arguments "
   ]
  },
  {
   "cell_type": "code",
   "execution_count": 134,
   "metadata": {},
   "outputs": [
    {
     "name": "stdout",
     "output_type": "stream",
     "text": [
      "21\n",
      "[3, 6, 9, 12, 15, 18, 21, 24, 27]\n"
     ]
    }
   ],
   "source": [
    "from operator import mul\n",
    "from functools import partial \n",
    "\n",
    "triple = partial(mul, 3)\n",
    "print(triple(7))\n",
    "print(list(map(triple, range(1, 10))))"
   ]
  },
  {
   "cell_type": "markdown",
   "metadata": {},
   "source": [
    "# Pandas: Basics funktionale Programmierung"
   ]
  },
  {
   "cell_type": "code",
   "execution_count": 135,
   "metadata": {},
   "outputs": [],
   "source": [
    "import pandas as pd\n",
    "import numpy as np\n",
    "mtcars = pd.read_csv('/home/jovyan/Documents/Data/mtcars.csv',index_col=0).select_dtypes(include='number')"
   ]
  },
  {
   "cell_type": "markdown",
   "metadata": {},
   "source": [
    "## Apply reihen-/spaltenweise"
   ]
  },
  {
   "cell_type": "code",
   "execution_count": 136,
   "metadata": {},
   "outputs": [
    {
     "data": {
      "text/plain": [
       "name\n",
       "Mazda RX4             45.331667\n",
       "Mazda RX4 Wag         54.566250\n",
       "Datsun 710            62.881667\n",
       "Hornet 4 Drive        71.761250\n",
       "Hornet Sportabout    103.359167\n",
       "dtype: float64"
      ]
     },
     "execution_count": 136,
     "metadata": {},
     "output_type": "execute_result"
    }
   ],
   "source": [
    "# along the columns = row-wise\n",
    "mtcars.apply(np.mean, axis=1).head()  # axis='columns'"
   ]
  },
  {
   "cell_type": "code",
   "execution_count": 139,
   "metadata": {},
   "outputs": [
    {
     "data": {
      "text/plain": [
       "mpg      20.090625\n",
       "cyl       6.187500\n",
       "disp    230.721875\n",
       "hp      146.687500\n",
       "drat      3.596563\n",
       "dtype: float64"
      ]
     },
     "execution_count": 139,
     "metadata": {},
     "output_type": "execute_result"
    }
   ],
   "source": [
    "# along the rows = column-wise\n",
    "mtcars.apply(np.std, axis=0).head()   # axis='rows'\n",
    "mtcars.apply(np.mean, axis=0).head() "
   ]
  },
  {
   "cell_type": "markdown",
   "metadata": {},
   "source": [
    "### Custom functions"
   ]
  },
  {
   "cell_type": "code",
   "execution_count": 138,
   "metadata": {},
   "outputs": [
    {
     "data": {
      "text/plain": [
       "mpg      23.50\n",
       "cyl       4.00\n",
       "disp    400.90\n",
       "hp      283.00\n",
       "drat      2.17\n",
       "dtype: float64"
      ]
     },
     "execution_count": 138,
     "metadata": {},
     "output_type": "execute_result"
    }
   ],
   "source": [
    "range_of_var = lambda x: x.max() - x.min()\n",
    "\n",
    "mtcars.apply(range_of_var, axis=0).head()"
   ]
  },
  {
   "cell_type": "markdown",
   "metadata": {},
   "source": [
    "### Series zurück geben anstatt Skalar"
   ]
  },
  {
   "cell_type": "code",
   "execution_count": 140,
   "metadata": {},
   "outputs": [
    {
     "data": {
      "text/html": [
       "<div>\n",
       "<style scoped>\n",
       "    .dataframe tbody tr th:only-of-type {\n",
       "        vertical-align: middle;\n",
       "    }\n",
       "\n",
       "    .dataframe tbody tr th {\n",
       "        vertical-align: top;\n",
       "    }\n",
       "\n",
       "    .dataframe thead th {\n",
       "        text-align: right;\n",
       "    }\n",
       "</style>\n",
       "<table border=\"1\" class=\"dataframe\">\n",
       "  <thead>\n",
       "    <tr style=\"text-align: right;\">\n",
       "      <th></th>\n",
       "      <th>mpg</th>\n",
       "      <th>cyl</th>\n",
       "      <th>disp</th>\n",
       "      <th>hp</th>\n",
       "      <th>drat</th>\n",
       "      <th>wt</th>\n",
       "      <th>qsec</th>\n",
       "      <th>vs</th>\n",
       "      <th>am</th>\n",
       "      <th>gear</th>\n",
       "      <th>carb</th>\n",
       "      <th>hp_cumsum</th>\n",
       "    </tr>\n",
       "  </thead>\n",
       "  <tbody>\n",
       "    <tr>\n",
       "      <th>min</th>\n",
       "      <td>10.4</td>\n",
       "      <td>4</td>\n",
       "      <td>71.1</td>\n",
       "      <td>52</td>\n",
       "      <td>2.76</td>\n",
       "      <td>1.513</td>\n",
       "      <td>14.5</td>\n",
       "      <td>0</td>\n",
       "      <td>0</td>\n",
       "      <td>3</td>\n",
       "      <td>1</td>\n",
       "      <td>52</td>\n",
       "    </tr>\n",
       "    <tr>\n",
       "      <th>max</th>\n",
       "      <td>33.9</td>\n",
       "      <td>8</td>\n",
       "      <td>472.0</td>\n",
       "      <td>335</td>\n",
       "      <td>4.93</td>\n",
       "      <td>5.424</td>\n",
       "      <td>22.9</td>\n",
       "      <td>1</td>\n",
       "      <td>1</td>\n",
       "      <td>5</td>\n",
       "      <td>8</td>\n",
       "      <td>2929</td>\n",
       "    </tr>\n",
       "  </tbody>\n",
       "</table>\n",
       "</div>"
      ],
      "text/plain": [
       "      mpg  cyl   disp   hp  drat     wt  qsec  vs  am  gear  carb  hp_cumsum\n",
       "min  10.4    4   71.1   52  2.76  1.513  14.5   0   0     3     1         52\n",
       "max  33.9    8  472.0  335  4.93  5.424  22.9   1   1     5     8       2929"
      ]
     },
     "execution_count": 140,
     "metadata": {},
     "output_type": "execute_result"
    }
   ],
   "source": [
    "def range_of_var(x):\n",
    "    return pd.Series([x.min(), x.max()], index=['min', 'max'])\n",
    "\n",
    "mtcars.apply(range_of_var, axis=0)"
   ]
  },
  {
   "cell_type": "markdown",
   "metadata": {},
   "source": [
    "## Elementwise: Dataframe"
   ]
  },
  {
   "cell_type": "code",
   "execution_count": 141,
   "metadata": {},
   "outputs": [
    {
     "data": {
      "text/html": [
       "<div>\n",
       "<style scoped>\n",
       "    .dataframe tbody tr th:only-of-type {\n",
       "        vertical-align: middle;\n",
       "    }\n",
       "\n",
       "    .dataframe tbody tr th {\n",
       "        vertical-align: top;\n",
       "    }\n",
       "\n",
       "    .dataframe thead th {\n",
       "        text-align: right;\n",
       "    }\n",
       "</style>\n",
       "<table border=\"1\" class=\"dataframe\">\n",
       "  <thead>\n",
       "    <tr style=\"text-align: right;\">\n",
       "      <th></th>\n",
       "      <th>mpg</th>\n",
       "      <th>cyl</th>\n",
       "      <th>disp</th>\n",
       "      <th>hp</th>\n",
       "      <th>drat</th>\n",
       "      <th>wt</th>\n",
       "      <th>qsec</th>\n",
       "      <th>vs</th>\n",
       "      <th>am</th>\n",
       "      <th>gear</th>\n",
       "      <th>carb</th>\n",
       "      <th>hp_cumsum</th>\n",
       "    </tr>\n",
       "    <tr>\n",
       "      <th>name</th>\n",
       "      <th></th>\n",
       "      <th></th>\n",
       "      <th></th>\n",
       "      <th></th>\n",
       "      <th></th>\n",
       "      <th></th>\n",
       "      <th></th>\n",
       "      <th></th>\n",
       "      <th></th>\n",
       "      <th></th>\n",
       "      <th></th>\n",
       "      <th></th>\n",
       "    </tr>\n",
       "  </thead>\n",
       "  <tbody>\n",
       "    <tr>\n",
       "      <th>Mazda RX4</th>\n",
       "      <td>4.582576</td>\n",
       "      <td>2.449490</td>\n",
       "      <td>12.649111</td>\n",
       "      <td>10.488088</td>\n",
       "      <td>1.974842</td>\n",
       "      <td>1.618641</td>\n",
       "      <td>4.057093</td>\n",
       "      <td>0.0</td>\n",
       "      <td>1.0</td>\n",
       "      <td>2.000000</td>\n",
       "      <td>2.000000</td>\n",
       "      <td>14.662878</td>\n",
       "    </tr>\n",
       "    <tr>\n",
       "      <th>Mazda RX4 Wag</th>\n",
       "      <td>4.582576</td>\n",
       "      <td>2.449490</td>\n",
       "      <td>12.649111</td>\n",
       "      <td>10.488088</td>\n",
       "      <td>1.974842</td>\n",
       "      <td>1.695582</td>\n",
       "      <td>4.125530</td>\n",
       "      <td>0.0</td>\n",
       "      <td>1.0</td>\n",
       "      <td>2.000000</td>\n",
       "      <td>2.000000</td>\n",
       "      <td>18.027756</td>\n",
       "    </tr>\n",
       "    <tr>\n",
       "      <th>Datsun 710</th>\n",
       "      <td>4.774935</td>\n",
       "      <td>2.000000</td>\n",
       "      <td>10.392305</td>\n",
       "      <td>9.643651</td>\n",
       "      <td>1.962142</td>\n",
       "      <td>1.523155</td>\n",
       "      <td>4.313931</td>\n",
       "      <td>1.0</td>\n",
       "      <td>1.0</td>\n",
       "      <td>2.000000</td>\n",
       "      <td>1.000000</td>\n",
       "      <td>22.248595</td>\n",
       "    </tr>\n",
       "    <tr>\n",
       "      <th>Hornet 4 Drive</th>\n",
       "      <td>4.626013</td>\n",
       "      <td>2.449490</td>\n",
       "      <td>16.062378</td>\n",
       "      <td>10.488088</td>\n",
       "      <td>1.754993</td>\n",
       "      <td>1.793042</td>\n",
       "      <td>4.409082</td>\n",
       "      <td>1.0</td>\n",
       "      <td>0.0</td>\n",
       "      <td>1.732051</td>\n",
       "      <td>1.000000</td>\n",
       "      <td>20.856654</td>\n",
       "    </tr>\n",
       "    <tr>\n",
       "      <th>Hornet Sportabout</th>\n",
       "      <td>4.324350</td>\n",
       "      <td>2.828427</td>\n",
       "      <td>18.973666</td>\n",
       "      <td>13.228757</td>\n",
       "      <td>1.774824</td>\n",
       "      <td>1.854724</td>\n",
       "      <td>4.125530</td>\n",
       "      <td>0.0</td>\n",
       "      <td>0.0</td>\n",
       "      <td>1.732051</td>\n",
       "      <td>1.414214</td>\n",
       "      <td>25.495098</td>\n",
       "    </tr>\n",
       "  </tbody>\n",
       "</table>\n",
       "</div>"
      ],
      "text/plain": [
       "                        mpg       cyl       disp         hp      drat  \\\n",
       "name                                                                    \n",
       "Mazda RX4          4.582576  2.449490  12.649111  10.488088  1.974842   \n",
       "Mazda RX4 Wag      4.582576  2.449490  12.649111  10.488088  1.974842   \n",
       "Datsun 710         4.774935  2.000000  10.392305   9.643651  1.962142   \n",
       "Hornet 4 Drive     4.626013  2.449490  16.062378  10.488088  1.754993   \n",
       "Hornet Sportabout  4.324350  2.828427  18.973666  13.228757  1.774824   \n",
       "\n",
       "                         wt      qsec   vs   am      gear      carb  hp_cumsum  \n",
       "name                                                                            \n",
       "Mazda RX4          1.618641  4.057093  0.0  1.0  2.000000  2.000000  14.662878  \n",
       "Mazda RX4 Wag      1.695582  4.125530  0.0  1.0  2.000000  2.000000  18.027756  \n",
       "Datsun 710         1.523155  4.313931  1.0  1.0  2.000000  1.000000  22.248595  \n",
       "Hornet 4 Drive     1.793042  4.409082  1.0  0.0  1.732051  1.000000  20.856654  \n",
       "Hornet Sportabout  1.854724  4.125530  0.0  0.0  1.732051  1.414214  25.495098  "
      ]
     },
     "execution_count": 141,
     "metadata": {},
     "output_type": "execute_result"
    }
   ],
   "source": [
    "mtcars.applymap(np.sqrt).head()"
   ]
  },
  {
   "cell_type": "markdown",
   "metadata": {},
   "source": [
    "## Elementwise: Series"
   ]
  },
  {
   "cell_type": "code",
   "execution_count": 142,
   "metadata": {},
   "outputs": [
    {
     "data": {
      "text/plain": [
       "name\n",
       "Mazda RX4            10.488088\n",
       "Mazda RX4 Wag        10.488088\n",
       "Datsun 710            9.643651\n",
       "Hornet 4 Drive       10.488088\n",
       "Hornet Sportabout    13.228757\n",
       "Name: hp, dtype: float64"
      ]
     },
     "execution_count": 142,
     "metadata": {},
     "output_type": "execute_result"
    }
   ],
   "source": [
    "mtcars.hp.map(np.sqrt).head()"
   ]
  },
  {
   "cell_type": "markdown",
   "metadata": {},
   "source": [
    "# Pandas: Group-by"
   ]
  },
  {
   "cell_type": "markdown",
   "metadata": {},
   "source": [
    "## Group-by"
   ]
  },
  {
   "cell_type": "code",
   "execution_count": 143,
   "metadata": {},
   "outputs": [],
   "source": [
    "groupby = mtcars.groupby('am')"
   ]
  },
  {
   "cell_type": "markdown",
   "metadata": {},
   "source": [
    "## Intropect groups"
   ]
  },
  {
   "cell_type": "code",
   "execution_count": 144,
   "metadata": {},
   "outputs": [
    {
     "name": "stdout",
     "output_type": "stream",
     "text": [
      "0\n",
      "                    mpg  cyl   disp   hp  drat     wt   qsec  vs  am  gear  \\\n",
      "name                                                                         \n",
      "Hornet 4 Drive     21.4    6  258.0  110  3.08  3.215  19.44   1   0     3   \n",
      "Hornet Sportabout  18.7    8  360.0  175  3.15  3.440  17.02   0   0     3   \n",
      "Valiant            18.1    6  225.0  105  2.76  3.460  20.22   1   0     3   \n",
      "Duster 360         14.3    8  360.0  245  3.21  3.570  15.84   0   0     3   \n",
      "Merc 240D          24.4    4  146.7   62  3.69  3.190  20.00   1   0     4   \n",
      "\n",
      "                   carb  hp_cumsum  \n",
      "name                                \n",
      "Hornet 4 Drive        1        435  \n",
      "Hornet Sportabout     2        650  \n",
      "Valiant               1        105  \n",
      "Duster 360            4       2330  \n",
      "Merc 240D             2        114  \n",
      "1\n",
      "                mpg  cyl   disp   hp  drat     wt   qsec  vs  am  gear  carb  \\\n",
      "name                                                                           \n",
      "Mazda RX4      21.0    6  160.0  110  3.90  2.620  16.46   0   1     4     4   \n",
      "Mazda RX4 Wag  21.0    6  160.0  110  3.90  2.875  17.02   0   1     4     4   \n",
      "Datsun 710     22.8    4  108.0   93  3.85  2.320  18.61   1   1     4     1   \n",
      "Fiat 128       32.4    4   78.7   66  4.08  2.200  19.47   1   1     4     1   \n",
      "Honda Civic    30.4    4   75.7   52  4.93  1.615  18.52   1   1     4     2   \n",
      "\n",
      "               hp_cumsum  \n",
      "name                      \n",
      "Mazda RX4            215  \n",
      "Mazda RX4 Wag        325  \n",
      "Datsun 710           495  \n",
      "Fiat 128             311  \n",
      "Honda Civic           52  \n"
     ]
    }
   ],
   "source": [
    "for name, group in groupby:\n",
    "    print(name)\n",
    "    print(group.head())"
   ]
  },
  {
   "cell_type": "markdown",
   "metadata": {},
   "source": [
    "## Auswählen und manipulieren von Gruppen"
   ]
  },
  {
   "cell_type": "code",
   "execution_count": 146,
   "metadata": {},
   "outputs": [
    {
     "data": {
      "text/html": [
       "<div>\n",
       "<style scoped>\n",
       "    .dataframe tbody tr th:only-of-type {\n",
       "        vertical-align: middle;\n",
       "    }\n",
       "\n",
       "    .dataframe tbody tr th {\n",
       "        vertical-align: top;\n",
       "    }\n",
       "\n",
       "    .dataframe thead th {\n",
       "        text-align: right;\n",
       "    }\n",
       "</style>\n",
       "<table border=\"1\" class=\"dataframe\">\n",
       "  <thead>\n",
       "    <tr style=\"text-align: right;\">\n",
       "      <th></th>\n",
       "      <th></th>\n",
       "      <th>mpg</th>\n",
       "      <th>cyl</th>\n",
       "      <th>disp</th>\n",
       "      <th>hp</th>\n",
       "      <th>drat</th>\n",
       "      <th>wt</th>\n",
       "      <th>qsec</th>\n",
       "      <th>vs</th>\n",
       "      <th>am</th>\n",
       "      <th>gear</th>\n",
       "      <th>carb</th>\n",
       "      <th>hp_cumsum</th>\n",
       "    </tr>\n",
       "    <tr>\n",
       "      <th>am</th>\n",
       "      <th>name</th>\n",
       "      <th></th>\n",
       "      <th></th>\n",
       "      <th></th>\n",
       "      <th></th>\n",
       "      <th></th>\n",
       "      <th></th>\n",
       "      <th></th>\n",
       "      <th></th>\n",
       "      <th></th>\n",
       "      <th></th>\n",
       "      <th></th>\n",
       "      <th></th>\n",
       "    </tr>\n",
       "  </thead>\n",
       "  <tbody>\n",
       "    <tr>\n",
       "      <th rowspan=\"5\" valign=\"top\">0</th>\n",
       "      <th>Hornet 4 Drive</th>\n",
       "      <td>21.4</td>\n",
       "      <td>6</td>\n",
       "      <td>258.0</td>\n",
       "      <td>110</td>\n",
       "      <td>3.08</td>\n",
       "      <td>3.215</td>\n",
       "      <td>19.44</td>\n",
       "      <td>1</td>\n",
       "      <td>0</td>\n",
       "      <td>3</td>\n",
       "      <td>1</td>\n",
       "      <td>435</td>\n",
       "    </tr>\n",
       "    <tr>\n",
       "      <th>Hornet Sportabout</th>\n",
       "      <td>18.7</td>\n",
       "      <td>8</td>\n",
       "      <td>360.0</td>\n",
       "      <td>175</td>\n",
       "      <td>3.15</td>\n",
       "      <td>3.440</td>\n",
       "      <td>17.02</td>\n",
       "      <td>0</td>\n",
       "      <td>0</td>\n",
       "      <td>3</td>\n",
       "      <td>2</td>\n",
       "      <td>650</td>\n",
       "    </tr>\n",
       "    <tr>\n",
       "      <th>Valiant</th>\n",
       "      <td>18.1</td>\n",
       "      <td>6</td>\n",
       "      <td>225.0</td>\n",
       "      <td>105</td>\n",
       "      <td>2.76</td>\n",
       "      <td>3.460</td>\n",
       "      <td>20.22</td>\n",
       "      <td>1</td>\n",
       "      <td>0</td>\n",
       "      <td>3</td>\n",
       "      <td>1</td>\n",
       "      <td>105</td>\n",
       "    </tr>\n",
       "    <tr>\n",
       "      <th>Duster 360</th>\n",
       "      <td>14.3</td>\n",
       "      <td>8</td>\n",
       "      <td>360.0</td>\n",
       "      <td>245</td>\n",
       "      <td>3.21</td>\n",
       "      <td>3.570</td>\n",
       "      <td>15.84</td>\n",
       "      <td>0</td>\n",
       "      <td>0</td>\n",
       "      <td>3</td>\n",
       "      <td>4</td>\n",
       "      <td>2330</td>\n",
       "    </tr>\n",
       "    <tr>\n",
       "      <th>Merc 240D</th>\n",
       "      <td>24.4</td>\n",
       "      <td>4</td>\n",
       "      <td>146.7</td>\n",
       "      <td>62</td>\n",
       "      <td>3.69</td>\n",
       "      <td>3.190</td>\n",
       "      <td>20.00</td>\n",
       "      <td>1</td>\n",
       "      <td>0</td>\n",
       "      <td>4</td>\n",
       "      <td>2</td>\n",
       "      <td>114</td>\n",
       "    </tr>\n",
       "    <tr>\n",
       "      <th rowspan=\"5\" valign=\"top\">1</th>\n",
       "      <th>Mazda RX4</th>\n",
       "      <td>21.0</td>\n",
       "      <td>6</td>\n",
       "      <td>160.0</td>\n",
       "      <td>110</td>\n",
       "      <td>3.90</td>\n",
       "      <td>2.620</td>\n",
       "      <td>16.46</td>\n",
       "      <td>0</td>\n",
       "      <td>1</td>\n",
       "      <td>4</td>\n",
       "      <td>4</td>\n",
       "      <td>215</td>\n",
       "    </tr>\n",
       "    <tr>\n",
       "      <th>Mazda RX4 Wag</th>\n",
       "      <td>21.0</td>\n",
       "      <td>6</td>\n",
       "      <td>160.0</td>\n",
       "      <td>110</td>\n",
       "      <td>3.90</td>\n",
       "      <td>2.875</td>\n",
       "      <td>17.02</td>\n",
       "      <td>0</td>\n",
       "      <td>1</td>\n",
       "      <td>4</td>\n",
       "      <td>4</td>\n",
       "      <td>325</td>\n",
       "    </tr>\n",
       "    <tr>\n",
       "      <th>Datsun 710</th>\n",
       "      <td>22.8</td>\n",
       "      <td>4</td>\n",
       "      <td>108.0</td>\n",
       "      <td>93</td>\n",
       "      <td>3.85</td>\n",
       "      <td>2.320</td>\n",
       "      <td>18.61</td>\n",
       "      <td>1</td>\n",
       "      <td>1</td>\n",
       "      <td>4</td>\n",
       "      <td>1</td>\n",
       "      <td>495</td>\n",
       "    </tr>\n",
       "    <tr>\n",
       "      <th>Fiat 128</th>\n",
       "      <td>32.4</td>\n",
       "      <td>4</td>\n",
       "      <td>78.7</td>\n",
       "      <td>66</td>\n",
       "      <td>4.08</td>\n",
       "      <td>2.200</td>\n",
       "      <td>19.47</td>\n",
       "      <td>1</td>\n",
       "      <td>1</td>\n",
       "      <td>4</td>\n",
       "      <td>1</td>\n",
       "      <td>311</td>\n",
       "    </tr>\n",
       "    <tr>\n",
       "      <th>Honda Civic</th>\n",
       "      <td>30.4</td>\n",
       "      <td>4</td>\n",
       "      <td>75.7</td>\n",
       "      <td>52</td>\n",
       "      <td>4.93</td>\n",
       "      <td>1.615</td>\n",
       "      <td>18.52</td>\n",
       "      <td>1</td>\n",
       "      <td>1</td>\n",
       "      <td>4</td>\n",
       "      <td>2</td>\n",
       "      <td>52</td>\n",
       "    </tr>\n",
       "  </tbody>\n",
       "</table>\n",
       "</div>"
      ],
      "text/plain": [
       "                       mpg  cyl   disp   hp  drat     wt   qsec  vs  am  gear  \\\n",
       "am name                                                                         \n",
       "0  Hornet 4 Drive     21.4    6  258.0  110  3.08  3.215  19.44   1   0     3   \n",
       "   Hornet Sportabout  18.7    8  360.0  175  3.15  3.440  17.02   0   0     3   \n",
       "   Valiant            18.1    6  225.0  105  2.76  3.460  20.22   1   0     3   \n",
       "   Duster 360         14.3    8  360.0  245  3.21  3.570  15.84   0   0     3   \n",
       "   Merc 240D          24.4    4  146.7   62  3.69  3.190  20.00   1   0     4   \n",
       "1  Mazda RX4          21.0    6  160.0  110  3.90  2.620  16.46   0   1     4   \n",
       "   Mazda RX4 Wag      21.0    6  160.0  110  3.90  2.875  17.02   0   1     4   \n",
       "   Datsun 710         22.8    4  108.0   93  3.85  2.320  18.61   1   1     4   \n",
       "   Fiat 128           32.4    4   78.7   66  4.08  2.200  19.47   1   1     4   \n",
       "   Honda Civic        30.4    4   75.7   52  4.93  1.615  18.52   1   1     4   \n",
       "\n",
       "                      carb  hp_cumsum  \n",
       "am name                                \n",
       "0  Hornet 4 Drive        1        435  \n",
       "   Hornet Sportabout     2        650  \n",
       "   Valiant               1        105  \n",
       "   Duster 360            4       2330  \n",
       "   Merc 240D             2        114  \n",
       "1  Mazda RX4             4        215  \n",
       "   Mazda RX4 Wag         4        325  \n",
       "   Datsun 710            1        495  \n",
       "   Fiat 128              1        311  \n",
       "   Honda Civic           2         52  "
      ]
     },
     "execution_count": 146,
     "metadata": {},
     "output_type": "execute_result"
    }
   ],
   "source": [
    "def top(df, n=3):\n",
    "    return df.head()\n",
    "\n",
    "def full(df):\n",
    "    return df\n",
    "\n",
    "mtcars.groupby('am').apply(top)"
   ]
  },
  {
   "cell_type": "markdown",
   "metadata": {},
   "source": [
    "### (sort-)-split-apply-combine"
   ]
  },
  {
   "cell_type": "code",
   "execution_count": 149,
   "metadata": {},
   "outputs": [],
   "source": [
    "def cum_sum(df, col):    \n",
    "    df['cs'] = df[col].cumsum()\n",
    "    return df\n",
    "\n",
    "#mtcars.groupby('am').apply(top)\n",
    "(mtcars\n",
    " .sort_values(['am','hp'])\n",
    " .groupby('am')\n",
    " .apply(cum_sum,'hp'))\n",
    "\n",
    "i = mtcars.index"
   ]
  },
  {
   "cell_type": "code",
   "execution_count": 150,
   "metadata": {},
   "outputs": [
    {
     "data": {
      "text/plain": [
       "MultiIndex(levels=[['AMC', 'Cadillac', 'Camaro', 'Chrysler', 'Datsun', 'Dodge', 'Duster', 'Ferrari', 'Fiat', 'Ford', 'Honda', 'Hornet', 'Lincoln', 'Lotus', 'Maserati', 'Mazda', 'Merc', 'Pontiac', 'Porsche', 'Toyota', 'Valiant', 'Volvo'], ['128', '142E', '230', '240D', '280', '280C', '360', '4', '450SE', '450SL', '450SLC', '710', '914-2', 'Bora', 'Challenger', 'Civic', 'Continental', 'Corolla', 'Corona', 'Dino', 'Europa', 'Firebird', 'Fleetwood', 'Imperial', 'Javelin', 'Pantera', 'RX4', 'Sportabout', 'X1-9', 'Z28'], ['Drive', 'L', 'Wag']],\n",
       "           codes=[[15, 15, 4, 11, 11, 20, 6, 16, 16, 16, 16, 16, 16, 16, 1, 12, 3, 8, 10, 19, 19, 5, 0, 2, 17, 8, 18, 13, 9, 7, 14, 21], [26, 26, 11, 7, 27, -1, 6, 3, 2, 4, 5, 8, 9, 10, 22, 16, 23, 0, 15, 17, 18, 14, 24, 29, 21, 28, 12, 20, 25, 19, 13, 1], [-1, 2, -1, 0, -1, -1, -1, -1, -1, -1, -1, -1, -1, -1, -1, -1, -1, -1, -1, -1, -1, -1, -1, -1, -1, -1, -1, -1, 1, -1, -1, -1]])"
      ]
     },
     "execution_count": 150,
     "metadata": {},
     "output_type": "execute_result"
    }
   ],
   "source": [
    "i.str.split(expand=True)"
   ]
  }
 ],
 "metadata": {
  "kernelspec": {
   "display_name": "Python 3",
   "language": "python",
   "name": "python3"
  },
  "language_info": {
   "codemirror_mode": {
    "name": "ipython",
    "version": 3
   },
   "file_extension": ".py",
   "mimetype": "text/x-python",
   "name": "python",
   "nbconvert_exporter": "python",
   "pygments_lexer": "ipython3",
   "version": "3.7.3"
  },
  "toc": {
   "base_numbering": 1,
   "nav_menu": {},
   "number_sections": true,
   "sideBar": true,
   "skip_h1_title": false,
   "title_cell": "Table of Contents",
   "title_sidebar": "Contents",
   "toc_cell": true,
   "toc_position": {
    "height": "calc(100% - 180px)",
    "left": "10px",
    "top": "150px",
    "width": "223.796875px"
   },
   "toc_section_display": true,
   "toc_window_display": true
  },
  "varInspector": {
   "cols": {
    "lenName": 16,
    "lenType": 16,
    "lenVar": 40
   },
   "kernels_config": {
    "python": {
     "delete_cmd_postfix": "",
     "delete_cmd_prefix": "del ",
     "library": "var_list.py",
     "varRefreshCmd": "print(var_dic_list())"
    },
    "r": {
     "delete_cmd_postfix": ") ",
     "delete_cmd_prefix": "rm(",
     "library": "var_list.r",
     "varRefreshCmd": "cat(var_dic_list()) "
    }
   },
   "types_to_exclude": [
    "module",
    "function",
    "builtin_function_or_method",
    "instance",
    "_Feature"
   ],
   "window_display": false
  }
 },
 "nbformat": 4,
 "nbformat_minor": 2
}
