{
 "cells": [
  {
   "cell_type": "markdown",
   "metadata": {},
   "source": [
    "**Dimensionalitäts Reduktion mit SVD**\n",
    "1. Zerlegung von $m \\times n$ Matrix \n",
    "2. Auswahl Anzahl der Singulärwerte\n",
    "3. Rekonstruktion mit verschiednen Anzahlen von Singulärwerten\n",
    "\n",
    "\n",
    "<p>\n",
    "$Data_{m\\times n} = U_{m \\times m}\\Sigma_{m \\times n}V^T_{n \\times n}$    \n",
    "<p>  unter Verwendung von 3 latenten Faktoren approximiert duch <p>\n",
    "$Data_{m\\times n} = U_{m \\times 3}\\Sigma_{3 \\times 3}V^T_{3 \\times n}$ \n",
    "\n"
   ]
  },
  {
   "cell_type": "code",
   "execution_count": 24,
   "metadata": {},
   "outputs": [],
   "source": [
    "import numpy as np\n",
    "from numpy import mat"
   ]
  },
  {
   "cell_type": "code",
   "execution_count": 25,
   "metadata": {},
   "outputs": [
    {
     "name": "stdout",
     "output_type": "stream",
     "text": [
      "Ratings of first User: [1 1 1 0 0]\n",
      "Ratings for first Item: [1 2 1 5 1 0 0]\n"
     ]
    }
   ],
   "source": [
    "# User-Item Matrix \n",
    "# Reihen = User, Spalten = Items\n",
    "data = np.array([[1, 1, 1, 0, 0],\n",
    "                 [2, 2, 2, 0, 0],\n",
    "                 [1, 1, 1, 0, 0],\n",
    "                 [5, 5, 5, 0, 0],\n",
    "                 [1, 1, 0, 2, 2],\n",
    "                 [0, 0, 0, 3, 3],\n",
    "                 [0, 0, 0, 1, 1]])\n",
    "\n",
    "# Erster User\n",
    "print(\"Ratings of first User: {}\".format(data[0,:]))\n",
    "# Erstes Item\n",
    "print(\"Ratings for first Item: {}\".format(data[:,0]))"
   ]
  },
  {
   "cell_type": "markdown",
   "metadata": {},
   "source": [
    "**Zerlegung**"
   ]
  },
  {
   "cell_type": "code",
   "execution_count": 26,
   "metadata": {},
   "outputs": [],
   "source": [
    "from numpy import linalg\n",
    "np.set_printoptions(precision=1, suppress=True)\n",
    "\n",
    "U,Sigma,VT=linalg.svd(data)\n"
   ]
  },
  {
   "cell_type": "markdown",
   "metadata": {},
   "source": [
    "**Resultierende Matrizen**"
   ]
  },
  {
   "cell_type": "code",
   "execution_count": 27,
   "metadata": {},
   "outputs": [
    {
     "name": "stdout",
     "output_type": "stream",
     "text": [
      "[[-0.2 -0.   0.   0.9 -0.3 -0.1  0.1]\n",
      " [-0.4 -0.   0.  -0.1  0.  -0.9 -0. ]\n",
      " [-0.2 -0.   0.  -0.4 -0.8  0.1  0.5]\n",
      " [-0.9 -0.1  0.1 -0.   0.2  0.4 -0.1]\n",
      " [-0.1  0.5 -0.8 -0.  -0.  -0.   0. ]\n",
      " [-0.   0.8  0.5 -0.  -0.2  0.  -0.3]\n",
      " [-0.   0.3  0.2  0.   0.5 -0.   0.8]]\n"
     ]
    }
   ],
   "source": [
    "print(U)"
   ]
  },
  {
   "cell_type": "code",
   "execution_count": 28,
   "metadata": {},
   "outputs": [
    {
     "name": "stdout",
     "output_type": "stream",
     "text": [
      "[9.7 5.3 0.7 0.  0. ]\n"
     ]
    }
   ],
   "source": [
    "# singular values\n",
    "print(Sigma)\n",
    "# => nur die ersten drei behalten"
   ]
  },
  {
   "cell_type": "code",
   "execution_count": 29,
   "metadata": {},
   "outputs": [
    {
     "name": "stdout",
     "output_type": "stream",
     "text": [
      "[[-0.6 -0.6 -0.6 -0.  -0. ]\n",
      " [ 0.   0.  -0.1  0.7  0.7]\n",
      " [-0.4 -0.4  0.8  0.1  0.1]\n",
      " [-0.7  0.7 -0.   0.   0. ]\n",
      " [ 0.  -0.   0.  -0.7  0.7]]\n"
     ]
    }
   ],
   "source": [
    "print(VT)"
   ]
  },
  {
   "cell_type": "markdown",
   "metadata": {},
   "source": [
    "**Anzahl der singulären Werte** <P>\n",
    "Zie: 90% der Energie"
   ]
  },
  {
   "cell_type": "code",
   "execution_count": 30,
   "metadata": {},
   "outputs": [
    {
     "name": "stdout",
     "output_type": "stream",
     "text": [
      "Total energy: 15.70\n",
      "90% energy: 14.13\n",
      "Energy in first SV:  9.72\n",
      "Energy in first two SV: 15.02\n",
      "Energy in first three SV: 15.70\n"
     ]
    }
   ],
   "source": [
    "# Quadrieren der Werte\n",
    "Sig2=Sigma**2\n",
    "# Totale Energie\n",
    "total_engergy = sum(Sigma)\n",
    "print(\"Total energy: {:5.2f}\".format(total_engergy))\n",
    "# 90% der Energie\n",
    "energy_90 = total_engergy * 0.9\n",
    "print(\"90% energy: {:5.2f}\".format(energy_90))\n",
    "energy_first_one = sum(Sigma[:1])\n",
    "print(\"Energy in first SV: {:5.2f}\".format(energy_first_one))\n",
    "# Wieviel Energie in den ersten beiden\n",
    "energy_first_two = sum(Sigma[:2])\n",
    "print(\"Energy in first two SV: {:5.2f}\".format(energy_first_two))\n",
    "# Ersten drei\n",
    "energy_first_three = sum(Sigma[:3])\n",
    "print(\"Energy in first three SV: {:5.2f}\".format(energy_first_three))\n",
    "\n"
   ]
  },
  {
   "cell_type": "markdown",
   "metadata": {},
   "source": [
    "**Rekonstruktion** anhand von **drei** Dimensionen"
   ]
  },
  {
   "cell_type": "code",
   "execution_count": 31,
   "metadata": {},
   "outputs": [
    {
     "data": {
      "text/plain": [
       "array([[-0.2, -0. ,  0. ],\n",
       "       [-0.4, -0. ,  0. ],\n",
       "       [-0.2, -0. ,  0. ],\n",
       "       [-0.9, -0.1,  0.1],\n",
       "       [-0.1,  0.5, -0.8],\n",
       "       [-0. ,  0.8,  0.5],\n",
       "       [-0. ,  0.3,  0.2]])"
      ]
     },
     "execution_count": 31,
     "metadata": {},
     "output_type": "execute_result"
    }
   ],
   "source": [
    "# Diagonale Matrix erstellen \n",
    "# (np gibt nur Werte auf diagonalen)\n",
    "Sig3 = mat([[Sigma[0], 0, 0],\n",
    "            [0, Sigma[1], 0],\n",
    "            [0, 0, Sigma[2]]])\n",
    "U[:,:3]"
   ]
  },
  {
   "cell_type": "code",
   "execution_count": 32,
   "metadata": {},
   "outputs": [
    {
     "data": {
      "text/plain": [
       "matrix([[ 1.,  1.,  1., -0., -0.],\n",
       "        [ 2.,  2.,  2.,  0.,  0.],\n",
       "        [ 1.,  1.,  1.,  0.,  0.],\n",
       "        [ 5.,  5.,  5.,  0., -0.],\n",
       "        [ 1.,  1., -0.,  2.,  2.],\n",
       "        [ 0.,  0., -0.,  3.,  3.],\n",
       "        [ 0.,  0., -0.,  1.,  1.]])"
      ]
     },
     "execution_count": 32,
     "metadata": {},
     "output_type": "execute_result"
    }
   ],
   "source": [
    "# Rekonstruktion durch Multiplikation\n",
    "approx = U[:,:3] * Sig3 * VT[:3,:]\n",
    "#np.int_(approx)\n",
    "approx"
   ]
  },
  {
   "cell_type": "code",
   "execution_count": 33,
   "metadata": {},
   "outputs": [
    {
     "data": {
      "text/plain": [
       "array([[1, 1, 1, 0, 0],\n",
       "       [2, 2, 2, 0, 0],\n",
       "       [1, 1, 1, 0, 0],\n",
       "       [5, 5, 5, 0, 0],\n",
       "       [1, 1, 0, 2, 2],\n",
       "       [0, 0, 0, 3, 3],\n",
       "       [0, 0, 0, 1, 1]])"
      ]
     },
     "execution_count": 33,
     "metadata": {},
     "output_type": "execute_result"
    }
   ],
   "source": [
    "data"
   ]
  },
  {
   "cell_type": "markdown",
   "metadata": {},
   "source": [
    "**Rekonstruktion** anhand von **zwei** Dimensionen"
   ]
  },
  {
   "cell_type": "code",
   "execution_count": 42,
   "metadata": {},
   "outputs": [
    {
     "name": "stdout",
     "output_type": "stream",
     "text": [
      "[[-0.2 -0. ]\n",
      " [-0.4 -0. ]\n",
      " [-0.2 -0. ]\n",
      " [-0.9 -0.1]\n",
      " [-0.1  0.5]\n",
      " [-0.   0.8]\n",
      " [-0.   0.3]]\n",
      "[[9.7 0. ]\n",
      " [0.  5.3]]\n",
      "[[-0.6 -0.6 -0.6 -0.  -0. ]\n",
      " [ 0.   0.  -0.1  0.7  0.7]]\n"
     ]
    }
   ],
   "source": [
    "# Nur zwei Dimensionen\n",
    "Sig2 = mat([[Sigma[0], 0],\n",
    "            [0, Sigma[1]]])\n",
    "approx = U[:,:2] * Sig2 * VT[:2,:]\n",
    "#approx\n",
    "print(U[:,:2])\n",
    "print(Sig2)\n",
    "print(VT[:2,:])"
   ]
  },
  {
   "cell_type": "code",
   "execution_count": 35,
   "metadata": {},
   "outputs": [
    {
     "data": {
      "text/plain": [
       "matrix([[-0.6,  0. , -0.4],\n",
       "        [-0.6,  0. , -0.4],\n",
       "        [-0.6, -0.1,  0.8],\n",
       "        [-0. ,  0.7,  0.1],\n",
       "        [-0. ,  0.7,  0.1]])"
      ]
     },
     "execution_count": 35,
     "metadata": {},
     "output_type": "execute_result"
    }
   ],
   "source": [
    "# Transformieren der Items in lower dimensional space\n",
    "data.T * (U[:,:3] * Sig3.I)"
   ]
  },
  {
   "cell_type": "markdown",
   "metadata": {},
   "source": [
    "**Rekonstruktion** anhand von **einer** Dimension"
   ]
  },
  {
   "cell_type": "code",
   "execution_count": 39,
   "metadata": {},
   "outputs": [
    {
     "data": {
      "text/plain": [
       "matrix([[1. , 1. , 1. , 0.1, 0.1],\n",
       "        [2. , 2. , 2. , 0.1, 0.1],\n",
       "        [1. , 1. , 1. , 0.1, 0.1],\n",
       "        [5. , 5. , 4.9, 0.3, 0.3],\n",
       "        [0.8, 0.8, 0.7, 0. , 0. ],\n",
       "        [0.1, 0.1, 0.1, 0. , 0. ],\n",
       "        [0. , 0. , 0. , 0. , 0. ]])"
      ]
     },
     "execution_count": 39,
     "metadata": {},
     "output_type": "execute_result"
    }
   ],
   "source": [
    "# Eine Dimension\n",
    "Sig1 = mat([Sigma[0]])\n",
    "approx = U[:,:1] * Sig1 * VT[:1,:]\n",
    "approx"
   ]
  },
  {
   "cell_type": "code",
   "execution_count": 41,
   "metadata": {},
   "outputs": [
    {
     "data": {
      "text/plain": [
       "array([[1, 1, 1, 0, 0],\n",
       "       [2, 2, 2, 0, 0],\n",
       "       [1, 1, 1, 0, 0],\n",
       "       [5, 5, 5, 0, 0],\n",
       "       [1, 1, 0, 2, 2],\n",
       "       [0, 0, 0, 3, 3],\n",
       "       [0, 0, 0, 1, 1]])"
      ]
     },
     "execution_count": 41,
     "metadata": {},
     "output_type": "execute_result"
    }
   ],
   "source": [
    "# Original\n",
    "data"
   ]
  },
  {
   "cell_type": "code",
   "execution_count": null,
   "metadata": {},
   "outputs": [],
   "source": []
  }
 ],
 "metadata": {
  "kernelspec": {
   "display_name": "Python 3",
   "language": "python",
   "name": "python3"
  },
  "language_info": {
   "codemirror_mode": {
    "name": "ipython",
    "version": 3
   },
   "file_extension": ".py",
   "mimetype": "text/x-python",
   "name": "python",
   "nbconvert_exporter": "python",
   "pygments_lexer": "ipython3",
   "version": "3.7.3"
  },
  "toc": {
   "base_numbering": 1,
   "nav_menu": {},
   "number_sections": true,
   "sideBar": true,
   "skip_h1_title": false,
   "title_cell": "Table of Contents",
   "title_sidebar": "Contents",
   "toc_cell": false,
   "toc_position": {},
   "toc_section_display": true,
   "toc_window_display": false
  },
  "varInspector": {
   "cols": {
    "lenName": 16,
    "lenType": 16,
    "lenVar": 40
   },
   "kernels_config": {
    "python": {
     "delete_cmd_postfix": "",
     "delete_cmd_prefix": "del ",
     "library": "var_list.py",
     "varRefreshCmd": "print(var_dic_list())"
    },
    "r": {
     "delete_cmd_postfix": ") ",
     "delete_cmd_prefix": "rm(",
     "library": "var_list.r",
     "varRefreshCmd": "cat(var_dic_list()) "
    }
   },
   "types_to_exclude": [
    "module",
    "function",
    "builtin_function_or_method",
    "instance",
    "_Feature"
   ],
   "window_display": false
  }
 },
 "nbformat": 4,
 "nbformat_minor": 2
}
